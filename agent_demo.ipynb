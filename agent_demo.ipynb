{
 "cells": [
  {
   "cell_type": "markdown",
   "metadata": {},
   "source": [
    "# Weather Agent Demo\n",
    "\n",
    "This notebook demonstrates a simple agent that can use a `get_weather` tool."
   ]
  },
  {
   "cell_type": "code",
   "execution_count": null,
   "metadata": {},
   "outputs": [],
   "source": [
    "import os\n",
    "import json\n",
    "from openai import OpenAI\n",
    "from dotenv import load_dotenv\n",
    "\n",
    "# Load environment variables from .env file\n",
    "load_dotenv()\n",
    "\n",
    "# Initialize the OpenAI client with OpenRouter settings\n",
    "client = OpenAI(\n",
    "    base_url=\"https://openrouter.ai/api/v1\",\n",
    "    api_key=os.getenv(\"OPENROUTER_API_KEY\"),\n",
    ")"
   ]
  },
  {
   "cell_type": "markdown",
   "metadata": {},
   "source": [
    "## 1. Define the Tool"
   ]
  },
  {
   "cell_type": "code",
   "execution_count": null,
   "metadata": {},
   "outputs": [],
   "source": [
    "def get_weather(city: str):\n",
    "    \"\"\"Gets the weather for a given city.\"\"\"\n",
    "    if \"tokyo\" in city.lower():\n",
    "        return json.dumps({\"city\": \"Tokyo\", \"temperature\": \"15 C\", \"conditions\": \"Cloudy\"})\n",
    "    elif \"san francisco\" in city.lower():\n",
    "        return json.dumps({\"city\": \"San Francisco\", \"temperature\": \"12 C\", \"conditions\": \"Foggy\"})\n",
    "    elif \"paris\" in city.lower():\n",
    "        return json.dumps({\"city\": \"Paris\", \"temperature\": \"18 C\", \"conditions\": \"Sunny\"})\n",
    "    else:\n",
    "        return json.dumps({\"city\": city, \"temperature\": \"unknown\", \"conditions\": \"unknown\"})"
   ]
  },
  {
   "cell_type": "markdown",
   "metadata": {},
   "source": [
    "## 2. Define the List of Tools"
   ]
  },
  {
   "cell_type": "code",
   "execution_count": null,
   "metadata": {},
   "outputs": [],
   "source": [
    "tools = [\n",
    "    {\n",
    "        \"type\": \"function\",\n",
    "        \"function\": {\n",
    "            \"name\": \"get_weather\",\n",
    "            \"description\": \"Get the current weather in a given city\",\n",
    "            \"parameters\": {\n",
    "                \"type\": \"object\",\n",
    "                \"properties\": {\n",
    "                    \"city\": {\n",
    "                        \"type\": \"string\",\n",
    "                        \"description\": \"The city, e.g., San Francisco\",\n",
    "                    },\n",
    "                },\n",
    "                \"required\": [\"city\"],\n",
    "            },\n",
    "        },\n",
    "    }\n",
    "]"
   ]
  },
  {
   "cell_type": "markdown",
   "metadata": {},
   "source": [
    "## 3. Initialize Conversation History\n",
    "\n",
    "We'll initialize the message history with the system prompt. This cell can be re-run to reset the conversation."
   ]
  },
  {
   "cell_type": "code",
   "execution_count": null,
   "metadata": {},
   "outputs": [],
   "source": [
    "messages = [{\"role\": \"system\", \"content\": \"You are a helpful assistant. When you need to get the current weather, you must use the 'get_weather' tool. For other questions, answer directly.\"}]"
   ]
  },
  {
   "cell_type": "markdown",
   "metadata": {},
   "source": [
    "## 4. Define the Agent Logic\n",
    "\n",
    "This function will take a user query, append it to the history, call the model, handle any tool calls, and return the final response."
   ]
  },
  {
   "cell_type": "code",
   "execution_count": null,
   "metadata": {},
   "outputs": [],
   "source": [
    "def run_conversation_turn(user_query: str):\n",
    "    \"\"\"Runs a single turn of the conversation.\"\"\"\n",
    "    global messages\n",
    "    \n",
    "    messages.append({\"role\": \"user\", \"content\": user_query})\n",
    "    \n",
    "    response = client.chat.completions.create(\n",
    "        model=\"google/gemini-flash-1.5\",\n",
    "        messages=messages,\n",
    "        tools=tools,\n",
    "        tool_choice=\"auto\",\n",
    "    )\n",
    "    \n",
    "    response_message = response.choices[0].message\n",
    "    tool_calls = response_message.tool_calls\n",
    "    \n",
    "    if tool_calls:\n",
    "        available_functions = {\"get_weather\": get_weather}\n",
    "        messages.append(response_message)\n",
    "        \n",
    "        for tool_call in tool_calls:\n",
    "            function_name = tool_call.function.name\n",
    "            function_to_call = available_functions[function_name]\n",
    "            function_args = json.loads(tool_call.function.arguments)\n",
    "            function_response = function_to_call(city=function_args.get(\"city\"))\n",
    "            messages.append(\n",
    "                {\n",
    "                    \"tool_call_id\": tool_call.id,\n",
    "                    \"role\": \"tool\",\n",
    "                    \"name\": function_name,\n",
    "                    \"content\": function_response,\n",
    "                }\n",
    "            )\n",
    "        \n",
    "        second_response = client.chat.completions.create(\n",
    "            model=\"google/gemini-flash-1.5\",\n",
    "            messages=messages,\n",
    "        )\n",
    "        final_response_message = second_response.choices[0].message\n",
    "        messages.append(final_response_message)\n",
    "        return final_response_message.content\n",
    "    else:\n",
    "        messages.append(response_message)\n",
    "        return response_message.content"
   ]
  },
  {
   "cell_type": "markdown",
   "metadata": {},
   "source": [
    "## 5. Run the Agent\n",
    "\n",
    "Now you can ask the agent questions. Execute the cell below with your query."
   ]
  },
  {
   "cell_type": "code",
   "execution_count": null,
   "metadata": {},
   "outputs": [],
   "source": [
    "user_query = \"What is the weather like in Tokyo?\"\n",
    "assistant_response = run_conversation_turn(user_query)\n",
    "print(f\"Assistant: {assistant_response}\")"
   ]
  },
  {
   "cell_type": "code",
   "execution_count": null,
   "metadata": {},
   "outputs": [],
   "source": [
    "user_query = \"What about in Paris?\"\n",
    "assistant_response = run_conversation_turn(user_query)\n",
    "print(f\"Assistant: {assistant_response}\")"
   ]
  }
 ],
 "metadata": {
  "kernelspec": {
   "display_name": "Python 3",
   "language": "python",
   "name": "python3"
  },
  "language_info": {
   "name": "python",
   "version": "3.12.0"
  }
 },
 "nbformat": 4,
 "nbformat_minor": 2
}
